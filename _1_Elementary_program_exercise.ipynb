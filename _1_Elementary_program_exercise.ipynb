{
  "cells": [
    {
      "metadata": {
        "trusted": true
      },
      "cell_type": "code",
      "source": "def gross_sal():\n    '''\n    1)  John’s  basic salary is  input through the key board.\n        His dearness allowance is 40% of his basic salary and\n        house rent allowance is 20% of basic salary.\n        Write a  Python  program to calculate his Gross salary.\n\n    Formula:  Gross_salary =   basic_salary + Dearness_Allowance + House_rent_allowance\n    '''\n    basic_sal = int(input(\"Enter John's basic salary:\"))\n    dear_allowance = basic_sal * 0.4\n    hra = basic_sal * 0.2\n    gross = basic_sal + dear_allowance + hra\n    print(\"John's gross salary is: \", int(gross))\n\ngross_sal()",
      "execution_count": 1,
      "outputs": [
        {
          "output_type": "stream",
          "name": "stdout",
          "text": "Enter John's basic salary:1000\nJohn's gross salary is:  1600\n"
        }
      ]
    },
    {
      "metadata": {
        "trusted": true
      },
      "cell_type": "code",
      "source": "def perct_marks():\n    '''\n    (2)  If the marks obtained by the student in 5 different subjects are input through the keyboard.\n    Write a Python -  Program to find out the aggregate marks and percentage marks obtained by the student.\n    Assume that, maximum marks that can be obtained by student in each subject is 100.\n   '''\n    try:\n        #User input will be captured into a list\n        marks = list(map(int, input(\"Enter marks for student subjects(separated by comma):\").split(\",\")))\n        if list(x for x in marks if x > 100):\n            print(\"Note: Marks > 100 are ignored\")        \n        \n        #Initializing variables\n        total = 0\n        cnt = 0\n\n        #Calculate user inputs only if marks <= 100\n        for i in marks:\n            if i <= 100:\n                total = total + i\n                cnt = cnt + 1\n                i=i+1\n            else:\n                break\n            \n        print(\"Total Marks:\", total)\n        print(\"No.of Subjects\", cnt)\n        pcent_marks = total/cnt\n        print(\"Percentage of Marks: \", pcent_marks)\n\n    except ValueError:\n        print(\"Input was not a digit - please try again.\")\n\nperct_marks()",
      "execution_count": null,
      "outputs": []
    },
    {
      "metadata": {
        "trusted": true
      },
      "cell_type": "code",
      "source": "def area_perimeter_rect_cir():\n    '''\n    (3) The length and breadth of a rectangle as well as radius of circle is input through\n         the key board. Write a Python  program to calculate the area and perimeter of the rectangle,\n          and the area of circle.\n    '''\n\n    #Calculate Rectangle area & Perimeter\n    height = int(input(\"Enter rectangle height: \"))\n    width = int(input(\"Enter rectangle width: \"))\n    r_area = height * width\n    r_perimeter = (2*height) + (2 * width)\n    print(\"Rectangle area is : \",r_area)\n    print(\"Rectangle perimeter is : \",r_perimeter)\n\n    #Calculate Circle area\n    radius = int(input(\"Enter Circle radius: \"))\n    pi = math.pi\n    c_area = pi * (2 * radius)\n    print(\"Circle area is : \",c_area)\n\narea_perimeter_rect_cir()",
      "execution_count": null,
      "outputs": []
    },
    {
      "metadata": {
        "trusted": true
      },
      "cell_type": "code",
      "source": "def interchange_num():\n    '''\n    (4) Two numbers are input through the key board into  2 locations  A  and B. \n    Write a Python  program to interchange the contents of A and B\n\n    Example:\n        Input from key board  A = 10 ;   B = 25\n        output on the monitor A = 25  ;  B = 10\n\n    HINT:  use third variable temp.\n\n    '''\n    \n    a = int(input(\"Enter first number: \"))\n    b = int(input(\"Enter second number: \"))\n    print(\"numbers before interchange: \", a, \"and \", b)\n\n    #interchange logic using a temp variable\n    temp = a\n    a = b\n    b = temp\n    \n    print(\"numbers before interchange: \", a, \"and \", b)\n\ninterchange_num()",
      "execution_count": null,
      "outputs": []
    },
    {
      "metadata": {
        "trusted": true
      },
      "cell_type": "code",
      "source": "def sum_of_digits():\n    '''\n    (5) A five digit number is input through the keyboard. \n    Write a Python program to calculate the sum of its digits.\n\n    Example:    input   ===>    12345\n    output ===>   15  which is sum of 1+2+3+4+5\n \n    '''\n\n    try:\n        #Load user input into a list\n        val = list(map(int,input(\"Enter a five digit number: \")))\n\n        if len(val) != 5:\n            print(\"Its not a 5 digit number. Please enter 5 digit number\")\n\n        else:\n            #Iterate the list and sum the values in a single statement - Python is very flexible :)\n            total = sum(list(x for x in val)) \n            print(\"Sum of all the digits is : \", total)\n\n    except ValueError:\n        print(\"Input was not a digit - please try again.\")\n\n\nsum_of_digits()",
      "execution_count": null,
      "outputs": []
    },
    {
      "metadata": {
        "trusted": true
      },
      "cell_type": "code",
      "source": "def reverse_str():\n    '''\n    (6A) A five digit number is input through the keyboard. \n    Write a Python program to reverse the number.\n\n        Example:  input ==>    12345\n        output ==>   54321\n\n    '''\n    try:\n        #Load user input into a list\n        #Note - Input is taken in String datatype to make use of reverse function below.\n        val = list(map(str,input(\"Enter a five digit number: \")))\n\n        if len(val) != 5:\n            print(\"Its not a 5 digit number. Please enter 5 digit number\")\n\n        else:\n            #below method reverses list elements\n            val.reverse()\n\n            #concatenate list elements\n            r_str = ''.join(val)\n            print(\"Reverse of entered number is : \", r_str)\n\n    except ValueError:\n        print(\"Input was not a digit - please try again.\")\n\n\nreverse_str()",
      "execution_count": null,
      "outputs": []
    },
    {
      "metadata": {
        "trusted": true
      },
      "cell_type": "code",
      "source": "def reverse_int():\n    '''\n    (6B) A five digit number is input through the keyboard. \n    Write a Python program to reverse the number.\n\n        Example:  input ==>    12345\n        output ==>   54321\n\n    '''\n    try:\n        #Take user input - str format by default\n        val = input(\"Enter a five digit number: \")\n\n        if  int(val) >= 10000 and int(val) <= 99999:\n            s = val[::-1]  #How Python is able to provide the list, even though a list is not defined?\n            i = int(s)\n            print(\"Reverse of entered number is {} and its datatype is {}\".format(i,type(i)))\n\n        else:\n            print(\"Input was not a 5 digit number. Please enter 5 digit number\")\n\n    except ValueError:\n        print(\"Input was not a digit - please try again.\")\n\n\nreverse_int()",
      "execution_count": null,
      "outputs": []
    },
    {
      "metadata": {
        "trusted": true
      },
      "cell_type": "code",
      "source": "def sum_of_first_last_digit():\n    '''\n        (7) A four digit number is input through the keyboard.  \n        Write a Python  program to obtain the sum of first and last digits of this number.\n\n        Example:   input ==>  4567\n        output ==>  11 ==> which is the sum first digit 7 and last digit 4.\n\n    '''\n    try:\n        #Take user input into a list in int format\n        val = list(map(int,input(\"Enter a four digit number: \")))\n\n        if len(val) == 4: # Used ==. Throws error for = . Why?\n            first_digit = val[0]\n            last_digit = val[-1]\n            print(\"Sum of First and Last digit is : \", first_digit+last_digit)\n        else:\n            print(\"Input was not a 4 digit number. Please enter 4 digit number\")\n\n    except ValueError:\n        print(\"Input was not a digit - please try again.\")\n\n\nsum_of_first_last_digit()",
      "execution_count": null,
      "outputs": []
    },
    {
      "metadata": {
        "trusted": true
      },
      "cell_type": "code",
      "source": "def monthly_emi_amortization():\n    '''\n    (8)   Formula to calculate Monthly installment on a Loan.\n\n    Monthly Payment = P (r(1+r)^n)/((1+r)^n-1).\n    \n    r: Interest rate. This is the monthly interest rate associated with the loan. \n        Your annual interest rate (usually called an APR or annual percentage rate) is listed \n        in the loan documents. To get the monthly interest rate that you need, simply divide \n        the annual interest rate by 12.\n        For example, an 8% annual interest rate would be divided by 12 to get a monthly \n        interest rate of 0.67%. This would then be expressed as a decimal for the equation \n        by dividing it by 100 as follows: 0.67/100=0.0067. So 0.0067 will be the monthly \n        interest rate used in these calculations.\n    \n    n: Number of Payments. This is the total number of payments made over the life of the loan. \n        For example, in a three year loan paid monthly n = 3 x 12 = 36.\n\n    P: Principal. The amount of the loan is called the principal. \n        This is typically the final price after tax of the asset purchased less any down payment\n    \n\n    Write a program to calculate equal monthly installments using above formula.\n    Input Loan amount, monthly interest rate, and number of years  through the key board.\n\n    (11) Write a program that calculates loan amount and interest for monthly payments,\n    for entire loan term. Also calculate Amortization.\n\n    '''\n\n    try:\n        princple = input(\"Enter Loan amount : \")\n        p = int(princple)\n\n        interest = input(\"Enter Yearly Interest % : \")\n        r = (float(interest)/(12 * 100))\n\n        timeframe = input(\"Enter no of years : \")\n        n = int(timeframe) * 12\n\n        emi = ((p*r*pow(1+r,n))/(pow(1+r,n)-1))\n\n        print (\"Monthly EMI for {} loan amount for {} years with interest rate {} is {}\".format(p,n/12,r*12*100,int(emi)))\n        print (\"You will pay {} as interest for the entire loan term.\".format(int((emi*n)-p)))\n\n        i = 1 #represent first month\n\n        #Amortization Schedule\n        while i <= n:\n            mi = p*r\n            p = p-(emi-mi)\n            print(\"Month : {}    Principal : {} Interest : {}\".format(i,round(emi-mi,2),round(mi,2)))\n            i = i + 1            \n\n    except ValueError:\n        print(\"Loan amount/time must be in numbers and interest can be a decimal value\")\n\nmonthly_emi_amortization()",
      "execution_count": null,
      "outputs": []
    },
    {
      "metadata": {
        "trusted": true
      },
      "cell_type": "code",
      "source": "def tax():\n    '''\n    (9) Write a program that asks the use to enter a dollars-and-cents amount, then displays\n    the amount with 5% tax added.\n\n    Input: Enter dollars and cents : 100.00\n    Output: Total amount with 5% tax is 105.00\n\n    '''\n\n    try:\n        amt = input(\"Enter dollars and cents (e.g., 100.05) : \")\n        amt = float(amt)\n        print(\"Total amount with 5% tax is : \",amt+(amt*0.05))\n    \n    except ValueError:\n        print(\"Amount is not in dollars and cents format\")\n\ntax()",
      "execution_count": null,
      "outputs": []
    },
    {
      "metadata": {
        "trusted": true
      },
      "cell_type": "code",
      "source": "def denomination():\n    '''\n     (10)   Write a program that asks the user to enter a US dollar amount and\n     then shows how to pay using that amount using the smallest number of $20,$10,$5, and $1 bills.\n\n     Input: Enter a dollar amount : 93\n     Output:\n        $20 bills : 4\n        $10 bills : 1\n         $5 bills : 0\n         $1 bills : 3\n\n    '''\n\n    try:\n        amt = input(\"Enter a dollar amount : \")\n        amt = int(amt)\n\n        #a temp variable to hold values\n        div = 0\n        reminder = 0\n\n        denomination = (20,10,5,1)  #created a tuple with denominations\n\n        for i in denomination:\n            div = amt // i #to get division in integer value\n            reminder = amt % i\n            amt = reminder   # balance amount is reassigned to amt variable         \n            print(\"\\n ${} bills : {}\".format(i,div))\n    \n    except ValueError:\n        print(\"Input must be a number\")\n\ndenomination()",
      "execution_count": null,
      "outputs": []
    }
  ],
  "metadata": {
    "kernelspec": {
      "name": "python36",
      "display_name": "Python 3.6",
      "language": "python"
    },
    "language_info": {
      "mimetype": "text/x-python",
      "nbconvert_exporter": "python",
      "name": "python",
      "pygments_lexer": "ipython3",
      "version": "3.6.6",
      "file_extension": ".py",
      "codemirror_mode": {
        "version": 3,
        "name": "ipython"
      }
    }
  },
  "nbformat": 4,
  "nbformat_minor": 2
}